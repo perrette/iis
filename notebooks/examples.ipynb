{
 "cells": [
  {
   "cell_type": "markdown",
   "metadata": {},
   "source": [
    "# Example of using IIS"
   ]
  },
  {
   "cell_type": "markdown",
   "metadata": {},
   "source": [
    "## Define a model to estimate"
   ]
  },
  {
   "cell_type": "code",
   "execution_count": null,
   "metadata": {
    "collapsed": false
   },
   "outputs": [],
   "source": [
    "from scipy.stats import norm, uniform\n",
    "from iis import IIS, Model\n",
    "\n",
    "def mymodel(params):\n",
    "    \"\"\"User-defined model with two parameters\n",
    "\n",
    "    Parameters\n",
    "    ----------\n",
    "    params : numpy.ndarray 1-D\n",
    "\n",
    "    Returns\n",
    "    -------\n",
    "    state : float\n",
    "        return value (could also be an array)\n",
    "    \"\"\"\n",
    "    return params[0] + params[1]*2\n",
    "\n",
    "likelihood = norm(loc=1, scale=1)  # normal, univariate distribution mean 1, s.d. 1\n",
    "prior = [norm(loc=0, scale=10), uniform(loc=-10, scale=20)] \n",
    "\n",
    "model = Model(mymodel, likelihood, prior=prior)  # define the model "
   ]
  },
  {
   "cell_type": "markdown",
   "metadata": {},
   "source": [
    "## Estimate its parameters"
   ]
  },
  {
   "cell_type": "code",
   "execution_count": null,
   "metadata": {
    "collapsed": true
   },
   "outputs": [],
   "source": [
    "solver = IIS(model)\n",
    "ensemble = solver.estimate(size=500, maxiter=10)"
   ]
  },
  {
   "cell_type": "markdown",
   "metadata": {},
   "source": [
    "## Investigate results\n",
    "\n",
    "The IIS class has two attributes of interests:\n",
    "- `ensemble` : current ensemble \n",
    "- `history` : list of previous ensembles\n",
    "\n",
    "And a `to_panel` method to vizualize the data as a pandas Panel.\n",
    "\n",
    "The Ensemble class has following attributes of interest:\n",
    "- `state` : 2-D ndarray (samples x state variables)\n",
    "- `params` : 2-D ndarray (samples x parameters)\n",
    "- `model` : the model defined above, with target distribution and forward integration functions\n",
    "\n",
    "For convenience, it is possible to extract these field as pandas DataFrame or Panel, combining `params` and `state`. See in-line help for methods `Ensemble.to_dataframe` and `IIS.to_panel`. This feature requires having\n",
    "`pandas` installed.\n",
    "\n",
    "Two plotting methods are also provided: `Ensemble.scatter_matrix` and `IIS.plot_history`.\n",
    "The first is simply a wrapper around pandas' function, but it is so frequently used that it is added\n",
    "as a method."
   ]
  },
  {
   "cell_type": "code",
   "execution_count": null,
   "metadata": {
    "collapsed": false
   },
   "outputs": [],
   "source": [
    "# Use pandas to check out the quantiles of the final ensemble\n",
    "ensemble.to_dataframe().quantile([0.5, 0.05, 0.95])"
   ]
  },
  {
   "cell_type": "code",
   "execution_count": null,
   "metadata": {
    "collapsed": false
   },
   "outputs": [],
   "source": [
    "# or the iteration history \n",
    "solver.to_panel(quantiles=[0.5, 0.05, 0.95])"
   ]
  },
  {
   "cell_type": "markdown",
   "metadata": {
    "collapsed": true
   },
   "source": [
    "##Check convergence"
   ]
  },
  {
   "cell_type": "code",
   "execution_count": null,
   "metadata": {
    "collapsed": false
   },
   "outputs": [],
   "source": [
    "# Plotting methods\n",
    "%matplotlib inline\n",
    "solver.plot_history(overlay_dists=True)  "
   ]
  },
  {
   "cell_type": "markdown",
   "metadata": {},
   "source": [
    "## Scatter matrix to investigate final distributions and correlations"
   ]
  },
  {
   "cell_type": "code",
   "execution_count": null,
   "metadata": {
    "collapsed": false
   },
   "outputs": [],
   "source": [
    "ensemble.scatter_matrix() # result"
   ]
  },
  {
   "cell_type": "markdown",
   "metadata": {},
   "source": [
    "## Advanced vizualisation using pandas (classes)\n",
    "\n",
    "Pandas is also shipped with a few methods to investigates clusters in data.\n",
    "The `categories` key-word has been included to `Ensemble.to_dataframe` to automatically\n",
    "add a column with appropriate categories."
   ]
  },
  {
   "cell_type": "code",
   "execution_count": null,
   "metadata": {
    "collapsed": false
   },
   "outputs": [],
   "source": [
    "from pandas.tools.plotting import parallel_coordinates, radviz, andrews_curves\n",
    "import matplotlib.pyplot as plt\n",
    "\n",
    "# create clusters of data \n",
    "categories = []\n",
    "for i in xrange(ensemble.size):\n",
    "    if ensemble.params[i,0]>0:\n",
    "        cat = 'p0 > 0'\n",
    "    elif ensemble.params[i,0] > -5:\n",
    "        cat = 'p0 < 0 and |p0| < 5'\n",
    "    else:\n",
    "        cat = 'rest'\n",
    "    categories.append(cat)\n",
    "\n",
    "# Create a DataFrame with a category name\n",
    "class_column  = '_CatName'\n",
    "df = ensemble.to_dataframe(categories=categories, class_column=class_column)\n",
    "\n",
    "plt.figure()\n",
    "parallel_coordinates(df, class_column)\n",
    "plt.title(\"parallel_coordinates\")\n",
    "\n",
    "plt.figure()\n",
    "radviz(df, class_column)\n",
    "plt.title(\"radviz\")"
   ]
  }
 ],
 "metadata": {
  "kernelspec": {
   "display_name": "Python 2",
   "language": "python",
   "name": "python2"
  },
  "language_info": {
   "codemirror_mode": {
    "name": "ipython",
    "version": 2
   },
   "file_extension": ".py",
   "mimetype": "text/x-python",
   "name": "python",
   "nbconvert_exporter": "python",
   "pygments_lexer": "ipython2",
   "version": "2.7.6"
  }
 },
 "nbformat": 4,
 "nbformat_minor": 0
}
