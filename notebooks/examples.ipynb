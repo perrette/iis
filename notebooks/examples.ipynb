{
 "cells": [
  {
   "cell_type": "markdown",
   "metadata": {},
   "source": [
    "# Example using simple models"
   ]
  },
  {
   "cell_type": "code",
   "execution_count": null,
   "metadata": {
    "collapsed": false
   },
   "outputs": [],
   "source": [
    "import numpy as np\n",
    "from scipy.stats import norm, uniform, lognorm, multivariate_normal\n",
    "import sys\n",
    "sys.path.insert(0, '..')\n",
    "from iis import Model, IIS\n",
    "\n",
    "#\n",
    "# Define model's functional form\n",
    "#\n",
    "def modelAH2007(params, k=1):\n",
    "    \"\"\" Simple model from Annan and Hargreave, 2007\n",
    "\n",
    "    y = 10*(x/10)**k\n",
    "    \n",
    "    where x is the single model parameter\n",
    "    and k an exponent to obtains linear or non-linear models (default to 1)\n",
    "    \"\"\"\n",
    "    return [10*(params[0]/10)**k]\n",
    "\n",
    "#\n",
    "# Define proposal and likelihood's distributions\n",
    "#\n",
    "likelihood = norm(loc=10, scale=3)  # observations\n",
    "proposal = uniform(loc=0, scale=100)  # initial distribution for parameters\n",
    "prior = None   # prior knowledge on parameters, to be multiplied with likelihood\n",
    "\n",
    "#\n",
    "# Initialize the model to be estimated\n",
    "#\n",
    "model = Model(modelAH2007, likelihood, proposal, prior) \n",
    "\n",
    "#\n",
    "# Use IIS iterative solver class to estimate posterior distributions\n",
    "#\n",
    "iis = IIS(model)\n",
    "ensemble = iis.estimate(size=500, resampling_method='residual', maxiter=60)  # proceed to estimation"
   ]
  },
  {
   "cell_type": "code",
   "execution_count": null,
   "metadata": {
    "collapsed": false
   },
   "outputs": [],
   "source": [
    "#\n",
    "# Plot diagnostic on the estimated model\n",
    "#\n",
    "%matplotlib inline\n",
    "#import matplotlib.pyplot as plt\n",
    "from iis.diagnostic import Diagnostic, plot_distribution\n",
    "diag = Diagnostic(iis.history)\n",
    "diag.plot_series_state()\n",
    "#diag.plot_distribution()\n",
    "plot_distribution(iis.history[-1])\n",
    "lines = diag.plot_traceback()\n",
    "#diag.plot_series_analysis()"
   ]
  }
 ],
 "metadata": {
  "kernelspec": {
   "display_name": "Python 2",
   "language": "python",
   "name": "python2"
  },
  "language_info": {
   "codemirror_mode": {
    "name": "ipython",
    "version": 2
   },
   "file_extension": ".py",
   "mimetype": "text/x-python",
   "name": "python",
   "nbconvert_exporter": "python",
   "pygments_lexer": "ipython2",
   "version": "2.7.6"
  }
 },
 "nbformat": 4,
 "nbformat_minor": 0
}
